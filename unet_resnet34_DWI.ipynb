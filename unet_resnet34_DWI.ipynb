{
  "nbformat": 4,
  "nbformat_minor": 0,
  "metadata": {
    "colab": {
      "name": "unet_resnet34_DWI.ipynb",
      "provenance": [],
      "collapsed_sections": []
    },
    "kernelspec": {
      "name": "python3",
      "display_name": "Python 3"
    },
    "language_info": {
      "name": "python"
    },
    "accelerator": "GPU"
  },
  "cells": [
    {
      "cell_type": "code",
      "metadata": {
        "id": "DTHyrTD_zbLz"
      },
      "source": [
        "! nvidia-smi"
      ],
      "execution_count": null,
      "outputs": []
    },
    {
      "cell_type": "code",
      "metadata": {
        "id": "q-5L8TXNzzmj"
      },
      "source": [
        "#content to google drive\n",
        "from google.colab import drive\n",
        "drive.mount('/content/drive/')\n"
      ],
      "execution_count": null,
      "outputs": []
    },
    {
      "cell_type": "code",
      "metadata": {
        "id": "UgNtTd96pQ4R"
      },
      "source": [
        "!pip install tensorflow==2.2.0\n",
        "!pip install keras==2.4.2\n",
        "!pip install segmentation_models"
      ],
      "execution_count": null,
      "outputs": []
    },
    {
      "cell_type": "code",
      "metadata": {
        "id": "GI44rQXeS0op"
      },
      "source": [
        "# Enter modules\n",
        "import zipfile  # For faster extraction\n",
        "import keras\n",
        "import tensorflow as tf\n",
        "import os\n",
        "from numpy import expand_dims\n",
        "import cv2 # for read image\n",
        "import numpy as np # For data manipulation\n",
        "import matplotlib.pyplot as plt # for draw\n",
        "from google.colab.patches import cv2_imshow #coordinate cv2 with colab\n",
        "import nibabel as nib  #To read nii format\n",
        "import re  # For parsing the filenames (to know their modality)\n",
        "import glob # For populating the list of files\n",
        "import imgaug.augmenters as iaa #for data agumention\n",
        "from sklearn.model_selection import KFold, StratifiedKFold #Data setup and data segmentation\n",
        "import imgaug as ia\n",
        "from keras.models import *\n",
        "from keras.layers import *\n",
        "from keras.optimizers import *\n",
        "from keras.callbacks import CSVLogger\n",
        "from keras.callbacks import ModelCheckpoint, ReduceLROnPlateau, EarlyStopping\n",
        "from tensorflow.keras.utils import to_categorical\n",
        "from sklearn.model_selection import train_test_split\n",
        "import time\n",
        "import datetime\n",
        "import os\n",
        "from keras.models import Model\n",
        "from keras.layers import Input, Conv2D, MaxPooling2D, UpSampling2D, concatenate, Conv2DTranspose, BatchNormalization, Dropout\n",
        "from tensorflow.keras.optimizers import Adam\n",
        "from tensorflow.keras import backend as K\n",
        "from tensorflow.keras.callbacks import ModelCheckpoint, TensorBoard\n",
        "from tensorflow.keras.models import load_model\n",
        "import tensorflow.keras.backend as K\n",
        "import numpy as np\n",
        "import tensorflow as tf\n",
        "import segmentation_models as sm"
      ],
      "execution_count": null,
      "outputs": []
    },
    {
      "cell_type": "code",
      "metadata": {
        "id": "jlfy-NngUywP"
      },
      "source": [
        "import os\n",
        "import nibabel as nib\n",
        "DWI=os.listdir('/content/drive/MyDrive/prostate_crop/DWI_crop')\n",
        "\n",
        "\n",
        "DWI_imag=[]\n",
        "X=[]\n",
        "for i in DWI:\n",
        "  DWI_imag.append('/content/drive/MyDrive/prostate_crop/DWI_crop/' + i )\n",
        "for j in DWI_imag:\n",
        "  img= nib.load(j)\n",
        "  dwi_img = img.get_fdata(caching='unchanged') \n",
        "  X.append(dwi_img)  "
      ],
      "execution_count": null,
      "outputs": []
    },
    {
      "cell_type": "code",
      "metadata": {
        "id": "1EtCx8_TVFRn"
      },
      "source": [
        "label=os.listdir('/content/drive/MyDrive/prostate_crop/Label_crop')\n",
        "label_imag=[]\n",
        "Y=[]\n",
        "\n",
        "for i in label:\n",
        "  label_imag.append('/content/drive/MyDrive/prostate_crop/Label_crop/' + i )\n",
        "for j in label_imag:\n",
        "  img= nib.load(j)\n",
        "  lbl_img = img.get_fdata(caching='unchanged') \n",
        "  Y.append(lbl_img)  "
      ],
      "execution_count": null,
      "outputs": []
    },
    {
      "cell_type": "code",
      "metadata": {
        "id": "IBmCSN_0Q8b4"
      },
      "source": [
        "X=np.array(X)\n",
        "Y=np.array(Y)"
      ],
      "execution_count": null,
      "outputs": []
    },
    {
      "cell_type": "code",
      "metadata": {
        "id": "QMCTJ63yaqyK"
      },
      "source": [
        "np.unique(Y[0])"
      ],
      "execution_count": null,
      "outputs": []
    },
    {
      "cell_type": "code",
      "metadata": {
        "id": "j8k13i5_RbOM"
      },
      "source": [
        "from sklearn.model_selection import KFold\n",
        "i=0 \n",
        "n_split=10\n",
        " \n",
        "for train_index,test_index in KFold(n_split).split(X):\n",
        "  if i==9:\n",
        "    X_train,X_val=X[train_index],X[test_index]\n",
        "    y_train,y_val=Y[train_index],Y[test_index]\n",
        "  i=i+1  \n",
        "\n"
      ],
      "execution_count": null,
      "outputs": []
    },
    {
      "cell_type": "code",
      "metadata": {
        "id": "810BUvPKYMRB"
      },
      "source": [
        "X_T=[]\n",
        "for i in range (0,len(X_train)):\n",
        "  for j in range(0,19):\n",
        "    img=X_train[i][:,:,j]\n",
        "    X_T.append(img)\n",
        "\n",
        "Y_T=[]\n",
        "for i in range (0,len(y_train)):\n",
        "  for j in range(0,19):\n",
        "    img=y_train[i][:,:,j]\n",
        "    Y_T.append(img)    \n",
        "\n",
        "X_V=[]\n",
        "for i in range (0,len(X_val)):\n",
        "  for j in range(0,19):\n",
        "    img=X_val[i][:,:,j]\n",
        "    X_V.append(img) \n",
        "Y_V=[]\n",
        "for i in range (0,len(y_val)):\n",
        "  for j in range(0,19):\n",
        "    img=y_val[i][:,:,j]\n",
        "    Y_V.append(img)              "
      ],
      "execution_count": null,
      "outputs": []
    },
    {
      "cell_type": "code",
      "metadata": {
        "id": "ppGdiny9X7w1"
      },
      "source": [
        "np.unique(Y_V[0])"
      ],
      "execution_count": null,
      "outputs": []
    },
    {
      "cell_type": "code",
      "metadata": {
        "id": "nHOLIdPlBHCB"
      },
      "source": [
        "plt.imshow(Y_T[7])"
      ],
      "execution_count": null,
      "outputs": []
    },
    {
      "cell_type": "code",
      "metadata": {
        "id": "OubS12Ygbxjc"
      },
      "source": [
        "Y_T_c=to_categorical(Y_T,5)\n",
        "Y_V_c=to_categorical(Y_V,5)"
      ],
      "execution_count": null,
      "outputs": []
    },
    {
      "cell_type": "code",
      "metadata": {
        "id": "4MAHenSqICad"
      },
      "source": [
        "np.unique(Y_T_c[0])"
      ],
      "execution_count": null,
      "outputs": []
    },
    {
      "cell_type": "code",
      "metadata": {
        "id": "10i_GjTaqoby"
      },
      "source": [
        "X_T=np.array(X_T)\n",
        "Y_T_c=np.array(Y_T_c)\n",
        "X_V=np.array(X_V)\n",
        "Y_V_c=np.array(Y_V_c)"
      ],
      "execution_count": null,
      "outputs": []
    },
    {
      "cell_type": "code",
      "metadata": {
        "id": "BC1Y49AigGtO"
      },
      "source": [
        "X_T=np.expand_dims(X_T, axis=-1)\n",
        "X_V=np.expand_dims(X_V, axis=-1)"
      ],
      "execution_count": null,
      "outputs": []
    },
    {
      "cell_type": "code",
      "metadata": {
        "id": "eA9dgqO_xvsu"
      },
      "source": [
        "import random\n",
        "def Data_generator_train(X,y, batch_size=8):   \n",
        "    while True:               \n",
        "          for start in range(0, X.shape[0], batch_size):\n",
        "              x_batch = []\n",
        "              y_batch = []\n",
        "              end = min(start + batch_size, X.shape[0])\n",
        "              ids_batch = X[start:end]\n",
        "              for idd in range(start,end):           \n",
        "                   a=random.randint(0,2)\n",
        "                   if a==0:\n",
        "                      image =np.fliplr(X[idd]) \n",
        "                      label =np.fliplr(y[idd])\n",
        "                   if a==1:\n",
        "                     image =np.flipud(X[idd]) \n",
        "                     label =np.flipud(y[idd])\n",
        "                   elif a==2:\n",
        "                     image =(X[idd]) \n",
        "                     label =(y[idd])                \n",
        "                   x_batch.append(image)\n",
        "                   y_batch.append(label)               \n",
        "              x_batch= np.array(x_batch)\n",
        "              y_batch= np.array(y_batch)                                           \n",
        "              yield x_batch, y_batch\n"
      ],
      "execution_count": null,
      "outputs": []
    },
    {
      "cell_type": "code",
      "metadata": {
        "id": "aWYHRJEB0Fm8"
      },
      "source": [
        "m,b=next(iter(Data_generator_train(X_T,Y_T_c)))\n"
      ],
      "execution_count": null,
      "outputs": []
    },
    {
      "cell_type": "code",
      "metadata": {
        "id": "wvEvuaoVU9S-"
      },
      "source": [
        "import random\n",
        "def Data_generator_test(X,y, batch_size=1):   \n",
        "    while True:               \n",
        "          for start in range(0, X.shape[0], batch_size):\n",
        "              x_batch = []\n",
        "              y_batch = []\n",
        "              end = min(start + batch_size, X.shape[0])\n",
        "              ids_batch = X[start:end]\n",
        "              for idd in range(start,end):           \n",
        "                image =(X[idd]) \n",
        "                label =(y[idd])                \n",
        "                x_batch.append(image)\n",
        "                y_batch.append(label)               \n",
        "              x_batch= np.array(x_batch)\n",
        "              y_batch= np.array(y_batch)                                           \n",
        "              yield x_batch, y_batch\n"
      ],
      "execution_count": null,
      "outputs": []
    },
    {
      "cell_type": "code",
      "metadata": {
        "id": "eZ5XVIQeXGjZ"
      },
      "source": [
        "m,b=next(iter(Data_generator_test(X_V,Y_V_c)))\n"
      ],
      "execution_count": null,
      "outputs": []
    },
    {
      "cell_type": "code",
      "metadata": {
        "id": "qJf3JLotqrhh"
      },
      "source": [
        "model= sm.Unet('resnet34', classes=5, activation='softmax', encoder_weights=None, input_shape=(160, 160, 1))"
      ],
      "execution_count": null,
      "outputs": []
    },
    {
      "cell_type": "code",
      "metadata": {
        "id": "X1gPL-1urCwb",
        "colab": {
          "base_uri": "https://localhost:8080/"
        },
        "outputId": "c049fd7c-140d-43b3-d174-053d61533f69"
      },
      "source": [
        "model.summary()"
      ],
      "execution_count": null,
      "outputs": [
        {
          "output_type": "stream",
          "name": "stdout",
          "text": [
            "Model: \"model_1\"\n",
            "__________________________________________________________________________________________________\n",
            "Layer (type)                    Output Shape         Param #     Connected to                     \n",
            "==================================================================================================\n",
            "data (InputLayer)               [(None, 160, 160, 1) 0                                            \n",
            "__________________________________________________________________________________________________\n",
            "bn_data (BatchNormalization)    (None, 160, 160, 1)  3           data[0][0]                       \n",
            "__________________________________________________________________________________________________\n",
            "zero_padding2d (ZeroPadding2D)  (None, 166, 166, 1)  0           bn_data[0][0]                    \n",
            "__________________________________________________________________________________________________\n",
            "conv0 (Conv2D)                  (None, 80, 80, 64)   3136        zero_padding2d[0][0]             \n",
            "__________________________________________________________________________________________________\n",
            "bn0 (BatchNormalization)        (None, 80, 80, 64)   256         conv0[0][0]                      \n",
            "__________________________________________________________________________________________________\n",
            "relu0 (Activation)              (None, 80, 80, 64)   0           bn0[0][0]                        \n",
            "__________________________________________________________________________________________________\n",
            "zero_padding2d_1 (ZeroPadding2D (None, 82, 82, 64)   0           relu0[0][0]                      \n",
            "__________________________________________________________________________________________________\n",
            "pooling0 (MaxPooling2D)         (None, 40, 40, 64)   0           zero_padding2d_1[0][0]           \n",
            "__________________________________________________________________________________________________\n",
            "stage1_unit1_bn1 (BatchNormaliz (None, 40, 40, 64)   256         pooling0[0][0]                   \n",
            "__________________________________________________________________________________________________\n",
            "stage1_unit1_relu1 (Activation) (None, 40, 40, 64)   0           stage1_unit1_bn1[0][0]           \n",
            "__________________________________________________________________________________________________\n",
            "zero_padding2d_2 (ZeroPadding2D (None, 42, 42, 64)   0           stage1_unit1_relu1[0][0]         \n",
            "__________________________________________________________________________________________________\n",
            "stage1_unit1_conv1 (Conv2D)     (None, 40, 40, 64)   36864       zero_padding2d_2[0][0]           \n",
            "__________________________________________________________________________________________________\n",
            "stage1_unit1_bn2 (BatchNormaliz (None, 40, 40, 64)   256         stage1_unit1_conv1[0][0]         \n",
            "__________________________________________________________________________________________________\n",
            "stage1_unit1_relu2 (Activation) (None, 40, 40, 64)   0           stage1_unit1_bn2[0][0]           \n",
            "__________________________________________________________________________________________________\n",
            "zero_padding2d_3 (ZeroPadding2D (None, 42, 42, 64)   0           stage1_unit1_relu2[0][0]         \n",
            "__________________________________________________________________________________________________\n",
            "stage1_unit1_conv2 (Conv2D)     (None, 40, 40, 64)   36864       zero_padding2d_3[0][0]           \n",
            "__________________________________________________________________________________________________\n",
            "stage1_unit1_sc (Conv2D)        (None, 40, 40, 64)   4096        stage1_unit1_relu1[0][0]         \n",
            "__________________________________________________________________________________________________\n",
            "add (Add)                       (None, 40, 40, 64)   0           stage1_unit1_conv2[0][0]         \n",
            "                                                                 stage1_unit1_sc[0][0]            \n",
            "__________________________________________________________________________________________________\n",
            "stage1_unit2_bn1 (BatchNormaliz (None, 40, 40, 64)   256         add[0][0]                        \n",
            "__________________________________________________________________________________________________\n",
            "stage1_unit2_relu1 (Activation) (None, 40, 40, 64)   0           stage1_unit2_bn1[0][0]           \n",
            "__________________________________________________________________________________________________\n",
            "zero_padding2d_4 (ZeroPadding2D (None, 42, 42, 64)   0           stage1_unit2_relu1[0][0]         \n",
            "__________________________________________________________________________________________________\n",
            "stage1_unit2_conv1 (Conv2D)     (None, 40, 40, 64)   36864       zero_padding2d_4[0][0]           \n",
            "__________________________________________________________________________________________________\n",
            "stage1_unit2_bn2 (BatchNormaliz (None, 40, 40, 64)   256         stage1_unit2_conv1[0][0]         \n",
            "__________________________________________________________________________________________________\n",
            "stage1_unit2_relu2 (Activation) (None, 40, 40, 64)   0           stage1_unit2_bn2[0][0]           \n",
            "__________________________________________________________________________________________________\n",
            "zero_padding2d_5 (ZeroPadding2D (None, 42, 42, 64)   0           stage1_unit2_relu2[0][0]         \n",
            "__________________________________________________________________________________________________\n",
            "stage1_unit2_conv2 (Conv2D)     (None, 40, 40, 64)   36864       zero_padding2d_5[0][0]           \n",
            "__________________________________________________________________________________________________\n",
            "add_1 (Add)                     (None, 40, 40, 64)   0           stage1_unit2_conv2[0][0]         \n",
            "                                                                 add[0][0]                        \n",
            "__________________________________________________________________________________________________\n",
            "stage1_unit3_bn1 (BatchNormaliz (None, 40, 40, 64)   256         add_1[0][0]                      \n",
            "__________________________________________________________________________________________________\n",
            "stage1_unit3_relu1 (Activation) (None, 40, 40, 64)   0           stage1_unit3_bn1[0][0]           \n",
            "__________________________________________________________________________________________________\n",
            "zero_padding2d_6 (ZeroPadding2D (None, 42, 42, 64)   0           stage1_unit3_relu1[0][0]         \n",
            "__________________________________________________________________________________________________\n",
            "stage1_unit3_conv1 (Conv2D)     (None, 40, 40, 64)   36864       zero_padding2d_6[0][0]           \n",
            "__________________________________________________________________________________________________\n",
            "stage1_unit3_bn2 (BatchNormaliz (None, 40, 40, 64)   256         stage1_unit3_conv1[0][0]         \n",
            "__________________________________________________________________________________________________\n",
            "stage1_unit3_relu2 (Activation) (None, 40, 40, 64)   0           stage1_unit3_bn2[0][0]           \n",
            "__________________________________________________________________________________________________\n",
            "zero_padding2d_7 (ZeroPadding2D (None, 42, 42, 64)   0           stage1_unit3_relu2[0][0]         \n",
            "__________________________________________________________________________________________________\n",
            "stage1_unit3_conv2 (Conv2D)     (None, 40, 40, 64)   36864       zero_padding2d_7[0][0]           \n",
            "__________________________________________________________________________________________________\n",
            "add_2 (Add)                     (None, 40, 40, 64)   0           stage1_unit3_conv2[0][0]         \n",
            "                                                                 add_1[0][0]                      \n",
            "__________________________________________________________________________________________________\n",
            "stage2_unit1_bn1 (BatchNormaliz (None, 40, 40, 64)   256         add_2[0][0]                      \n",
            "__________________________________________________________________________________________________\n",
            "stage2_unit1_relu1 (Activation) (None, 40, 40, 64)   0           stage2_unit1_bn1[0][0]           \n",
            "__________________________________________________________________________________________________\n",
            "zero_padding2d_8 (ZeroPadding2D (None, 42, 42, 64)   0           stage2_unit1_relu1[0][0]         \n",
            "__________________________________________________________________________________________________\n",
            "stage2_unit1_conv1 (Conv2D)     (None, 20, 20, 128)  73728       zero_padding2d_8[0][0]           \n",
            "__________________________________________________________________________________________________\n",
            "stage2_unit1_bn2 (BatchNormaliz (None, 20, 20, 128)  512         stage2_unit1_conv1[0][0]         \n",
            "__________________________________________________________________________________________________\n",
            "stage2_unit1_relu2 (Activation) (None, 20, 20, 128)  0           stage2_unit1_bn2[0][0]           \n",
            "__________________________________________________________________________________________________\n",
            "zero_padding2d_9 (ZeroPadding2D (None, 22, 22, 128)  0           stage2_unit1_relu2[0][0]         \n",
            "__________________________________________________________________________________________________\n",
            "stage2_unit1_conv2 (Conv2D)     (None, 20, 20, 128)  147456      zero_padding2d_9[0][0]           \n",
            "__________________________________________________________________________________________________\n",
            "stage2_unit1_sc (Conv2D)        (None, 20, 20, 128)  8192        stage2_unit1_relu1[0][0]         \n",
            "__________________________________________________________________________________________________\n",
            "add_3 (Add)                     (None, 20, 20, 128)  0           stage2_unit1_conv2[0][0]         \n",
            "                                                                 stage2_unit1_sc[0][0]            \n",
            "__________________________________________________________________________________________________\n",
            "stage2_unit2_bn1 (BatchNormaliz (None, 20, 20, 128)  512         add_3[0][0]                      \n",
            "__________________________________________________________________________________________________\n",
            "stage2_unit2_relu1 (Activation) (None, 20, 20, 128)  0           stage2_unit2_bn1[0][0]           \n",
            "__________________________________________________________________________________________________\n",
            "zero_padding2d_10 (ZeroPadding2 (None, 22, 22, 128)  0           stage2_unit2_relu1[0][0]         \n",
            "__________________________________________________________________________________________________\n",
            "stage2_unit2_conv1 (Conv2D)     (None, 20, 20, 128)  147456      zero_padding2d_10[0][0]          \n",
            "__________________________________________________________________________________________________\n",
            "stage2_unit2_bn2 (BatchNormaliz (None, 20, 20, 128)  512         stage2_unit2_conv1[0][0]         \n",
            "__________________________________________________________________________________________________\n",
            "stage2_unit2_relu2 (Activation) (None, 20, 20, 128)  0           stage2_unit2_bn2[0][0]           \n",
            "__________________________________________________________________________________________________\n",
            "zero_padding2d_11 (ZeroPadding2 (None, 22, 22, 128)  0           stage2_unit2_relu2[0][0]         \n",
            "__________________________________________________________________________________________________\n",
            "stage2_unit2_conv2 (Conv2D)     (None, 20, 20, 128)  147456      zero_padding2d_11[0][0]          \n",
            "__________________________________________________________________________________________________\n",
            "add_4 (Add)                     (None, 20, 20, 128)  0           stage2_unit2_conv2[0][0]         \n",
            "                                                                 add_3[0][0]                      \n",
            "__________________________________________________________________________________________________\n",
            "stage2_unit3_bn1 (BatchNormaliz (None, 20, 20, 128)  512         add_4[0][0]                      \n",
            "__________________________________________________________________________________________________\n",
            "stage2_unit3_relu1 (Activation) (None, 20, 20, 128)  0           stage2_unit3_bn1[0][0]           \n",
            "__________________________________________________________________________________________________\n",
            "zero_padding2d_12 (ZeroPadding2 (None, 22, 22, 128)  0           stage2_unit3_relu1[0][0]         \n",
            "__________________________________________________________________________________________________\n",
            "stage2_unit3_conv1 (Conv2D)     (None, 20, 20, 128)  147456      zero_padding2d_12[0][0]          \n",
            "__________________________________________________________________________________________________\n",
            "stage2_unit3_bn2 (BatchNormaliz (None, 20, 20, 128)  512         stage2_unit3_conv1[0][0]         \n",
            "__________________________________________________________________________________________________\n",
            "stage2_unit3_relu2 (Activation) (None, 20, 20, 128)  0           stage2_unit3_bn2[0][0]           \n",
            "__________________________________________________________________________________________________\n",
            "zero_padding2d_13 (ZeroPadding2 (None, 22, 22, 128)  0           stage2_unit3_relu2[0][0]         \n",
            "__________________________________________________________________________________________________\n",
            "stage2_unit3_conv2 (Conv2D)     (None, 20, 20, 128)  147456      zero_padding2d_13[0][0]          \n",
            "__________________________________________________________________________________________________\n",
            "add_5 (Add)                     (None, 20, 20, 128)  0           stage2_unit3_conv2[0][0]         \n",
            "                                                                 add_4[0][0]                      \n",
            "__________________________________________________________________________________________________\n",
            "stage2_unit4_bn1 (BatchNormaliz (None, 20, 20, 128)  512         add_5[0][0]                      \n",
            "__________________________________________________________________________________________________\n",
            "stage2_unit4_relu1 (Activation) (None, 20, 20, 128)  0           stage2_unit4_bn1[0][0]           \n",
            "__________________________________________________________________________________________________\n",
            "zero_padding2d_14 (ZeroPadding2 (None, 22, 22, 128)  0           stage2_unit4_relu1[0][0]         \n",
            "__________________________________________________________________________________________________\n",
            "stage2_unit4_conv1 (Conv2D)     (None, 20, 20, 128)  147456      zero_padding2d_14[0][0]          \n",
            "__________________________________________________________________________________________________\n",
            "stage2_unit4_bn2 (BatchNormaliz (None, 20, 20, 128)  512         stage2_unit4_conv1[0][0]         \n",
            "__________________________________________________________________________________________________\n",
            "stage2_unit4_relu2 (Activation) (None, 20, 20, 128)  0           stage2_unit4_bn2[0][0]           \n",
            "__________________________________________________________________________________________________\n",
            "zero_padding2d_15 (ZeroPadding2 (None, 22, 22, 128)  0           stage2_unit4_relu2[0][0]         \n",
            "__________________________________________________________________________________________________\n",
            "stage2_unit4_conv2 (Conv2D)     (None, 20, 20, 128)  147456      zero_padding2d_15[0][0]          \n",
            "__________________________________________________________________________________________________\n",
            "add_6 (Add)                     (None, 20, 20, 128)  0           stage2_unit4_conv2[0][0]         \n",
            "                                                                 add_5[0][0]                      \n",
            "__________________________________________________________________________________________________\n",
            "stage3_unit1_bn1 (BatchNormaliz (None, 20, 20, 128)  512         add_6[0][0]                      \n",
            "__________________________________________________________________________________________________\n",
            "stage3_unit1_relu1 (Activation) (None, 20, 20, 128)  0           stage3_unit1_bn1[0][0]           \n",
            "__________________________________________________________________________________________________\n",
            "zero_padding2d_16 (ZeroPadding2 (None, 22, 22, 128)  0           stage3_unit1_relu1[0][0]         \n",
            "__________________________________________________________________________________________________\n",
            "stage3_unit1_conv1 (Conv2D)     (None, 10, 10, 256)  294912      zero_padding2d_16[0][0]          \n",
            "__________________________________________________________________________________________________\n",
            "stage3_unit1_bn2 (BatchNormaliz (None, 10, 10, 256)  1024        stage3_unit1_conv1[0][0]         \n",
            "__________________________________________________________________________________________________\n",
            "stage3_unit1_relu2 (Activation) (None, 10, 10, 256)  0           stage3_unit1_bn2[0][0]           \n",
            "__________________________________________________________________________________________________\n",
            "zero_padding2d_17 (ZeroPadding2 (None, 12, 12, 256)  0           stage3_unit1_relu2[0][0]         \n",
            "__________________________________________________________________________________________________\n",
            "stage3_unit1_conv2 (Conv2D)     (None, 10, 10, 256)  589824      zero_padding2d_17[0][0]          \n",
            "__________________________________________________________________________________________________\n",
            "stage3_unit1_sc (Conv2D)        (None, 10, 10, 256)  32768       stage3_unit1_relu1[0][0]         \n",
            "__________________________________________________________________________________________________\n",
            "add_7 (Add)                     (None, 10, 10, 256)  0           stage3_unit1_conv2[0][0]         \n",
            "                                                                 stage3_unit1_sc[0][0]            \n",
            "__________________________________________________________________________________________________\n",
            "stage3_unit2_bn1 (BatchNormaliz (None, 10, 10, 256)  1024        add_7[0][0]                      \n",
            "__________________________________________________________________________________________________\n",
            "stage3_unit2_relu1 (Activation) (None, 10, 10, 256)  0           stage3_unit2_bn1[0][0]           \n",
            "__________________________________________________________________________________________________\n",
            "zero_padding2d_18 (ZeroPadding2 (None, 12, 12, 256)  0           stage3_unit2_relu1[0][0]         \n",
            "__________________________________________________________________________________________________\n",
            "stage3_unit2_conv1 (Conv2D)     (None, 10, 10, 256)  589824      zero_padding2d_18[0][0]          \n",
            "__________________________________________________________________________________________________\n",
            "stage3_unit2_bn2 (BatchNormaliz (None, 10, 10, 256)  1024        stage3_unit2_conv1[0][0]         \n",
            "__________________________________________________________________________________________________\n",
            "stage3_unit2_relu2 (Activation) (None, 10, 10, 256)  0           stage3_unit2_bn2[0][0]           \n",
            "__________________________________________________________________________________________________\n",
            "zero_padding2d_19 (ZeroPadding2 (None, 12, 12, 256)  0           stage3_unit2_relu2[0][0]         \n",
            "__________________________________________________________________________________________________\n",
            "stage3_unit2_conv2 (Conv2D)     (None, 10, 10, 256)  589824      zero_padding2d_19[0][0]          \n",
            "__________________________________________________________________________________________________\n",
            "add_8 (Add)                     (None, 10, 10, 256)  0           stage3_unit2_conv2[0][0]         \n",
            "                                                                 add_7[0][0]                      \n",
            "__________________________________________________________________________________________________\n",
            "stage3_unit3_bn1 (BatchNormaliz (None, 10, 10, 256)  1024        add_8[0][0]                      \n",
            "__________________________________________________________________________________________________\n",
            "stage3_unit3_relu1 (Activation) (None, 10, 10, 256)  0           stage3_unit3_bn1[0][0]           \n",
            "__________________________________________________________________________________________________\n",
            "zero_padding2d_20 (ZeroPadding2 (None, 12, 12, 256)  0           stage3_unit3_relu1[0][0]         \n",
            "__________________________________________________________________________________________________\n",
            "stage3_unit3_conv1 (Conv2D)     (None, 10, 10, 256)  589824      zero_padding2d_20[0][0]          \n",
            "__________________________________________________________________________________________________\n",
            "stage3_unit3_bn2 (BatchNormaliz (None, 10, 10, 256)  1024        stage3_unit3_conv1[0][0]         \n",
            "__________________________________________________________________________________________________\n",
            "stage3_unit3_relu2 (Activation) (None, 10, 10, 256)  0           stage3_unit3_bn2[0][0]           \n",
            "__________________________________________________________________________________________________\n",
            "zero_padding2d_21 (ZeroPadding2 (None, 12, 12, 256)  0           stage3_unit3_relu2[0][0]         \n",
            "__________________________________________________________________________________________________\n",
            "stage3_unit3_conv2 (Conv2D)     (None, 10, 10, 256)  589824      zero_padding2d_21[0][0]          \n",
            "__________________________________________________________________________________________________\n",
            "add_9 (Add)                     (None, 10, 10, 256)  0           stage3_unit3_conv2[0][0]         \n",
            "                                                                 add_8[0][0]                      \n",
            "__________________________________________________________________________________________________\n",
            "stage3_unit4_bn1 (BatchNormaliz (None, 10, 10, 256)  1024        add_9[0][0]                      \n",
            "__________________________________________________________________________________________________\n",
            "stage3_unit4_relu1 (Activation) (None, 10, 10, 256)  0           stage3_unit4_bn1[0][0]           \n",
            "__________________________________________________________________________________________________\n",
            "zero_padding2d_22 (ZeroPadding2 (None, 12, 12, 256)  0           stage3_unit4_relu1[0][0]         \n",
            "__________________________________________________________________________________________________\n",
            "stage3_unit4_conv1 (Conv2D)     (None, 10, 10, 256)  589824      zero_padding2d_22[0][0]          \n",
            "__________________________________________________________________________________________________\n",
            "stage3_unit4_bn2 (BatchNormaliz (None, 10, 10, 256)  1024        stage3_unit4_conv1[0][0]         \n",
            "__________________________________________________________________________________________________\n",
            "stage3_unit4_relu2 (Activation) (None, 10, 10, 256)  0           stage3_unit4_bn2[0][0]           \n",
            "__________________________________________________________________________________________________\n",
            "zero_padding2d_23 (ZeroPadding2 (None, 12, 12, 256)  0           stage3_unit4_relu2[0][0]         \n",
            "__________________________________________________________________________________________________\n",
            "stage3_unit4_conv2 (Conv2D)     (None, 10, 10, 256)  589824      zero_padding2d_23[0][0]          \n",
            "__________________________________________________________________________________________________\n",
            "add_10 (Add)                    (None, 10, 10, 256)  0           stage3_unit4_conv2[0][0]         \n",
            "                                                                 add_9[0][0]                      \n",
            "__________________________________________________________________________________________________\n",
            "stage3_unit5_bn1 (BatchNormaliz (None, 10, 10, 256)  1024        add_10[0][0]                     \n",
            "__________________________________________________________________________________________________\n",
            "stage3_unit5_relu1 (Activation) (None, 10, 10, 256)  0           stage3_unit5_bn1[0][0]           \n",
            "__________________________________________________________________________________________________\n",
            "zero_padding2d_24 (ZeroPadding2 (None, 12, 12, 256)  0           stage3_unit5_relu1[0][0]         \n",
            "__________________________________________________________________________________________________\n",
            "stage3_unit5_conv1 (Conv2D)     (None, 10, 10, 256)  589824      zero_padding2d_24[0][0]          \n",
            "__________________________________________________________________________________________________\n",
            "stage3_unit5_bn2 (BatchNormaliz (None, 10, 10, 256)  1024        stage3_unit5_conv1[0][0]         \n",
            "__________________________________________________________________________________________________\n",
            "stage3_unit5_relu2 (Activation) (None, 10, 10, 256)  0           stage3_unit5_bn2[0][0]           \n",
            "__________________________________________________________________________________________________\n",
            "zero_padding2d_25 (ZeroPadding2 (None, 12, 12, 256)  0           stage3_unit5_relu2[0][0]         \n",
            "__________________________________________________________________________________________________\n",
            "stage3_unit5_conv2 (Conv2D)     (None, 10, 10, 256)  589824      zero_padding2d_25[0][0]          \n",
            "__________________________________________________________________________________________________\n",
            "add_11 (Add)                    (None, 10, 10, 256)  0           stage3_unit5_conv2[0][0]         \n",
            "                                                                 add_10[0][0]                     \n",
            "__________________________________________________________________________________________________\n",
            "stage3_unit6_bn1 (BatchNormaliz (None, 10, 10, 256)  1024        add_11[0][0]                     \n",
            "__________________________________________________________________________________________________\n",
            "stage3_unit6_relu1 (Activation) (None, 10, 10, 256)  0           stage3_unit6_bn1[0][0]           \n",
            "__________________________________________________________________________________________________\n",
            "zero_padding2d_26 (ZeroPadding2 (None, 12, 12, 256)  0           stage3_unit6_relu1[0][0]         \n",
            "__________________________________________________________________________________________________\n",
            "stage3_unit6_conv1 (Conv2D)     (None, 10, 10, 256)  589824      zero_padding2d_26[0][0]          \n",
            "__________________________________________________________________________________________________\n",
            "stage3_unit6_bn2 (BatchNormaliz (None, 10, 10, 256)  1024        stage3_unit6_conv1[0][0]         \n",
            "__________________________________________________________________________________________________\n",
            "stage3_unit6_relu2 (Activation) (None, 10, 10, 256)  0           stage3_unit6_bn2[0][0]           \n",
            "__________________________________________________________________________________________________\n",
            "zero_padding2d_27 (ZeroPadding2 (None, 12, 12, 256)  0           stage3_unit6_relu2[0][0]         \n",
            "__________________________________________________________________________________________________\n",
            "stage3_unit6_conv2 (Conv2D)     (None, 10, 10, 256)  589824      zero_padding2d_27[0][0]          \n",
            "__________________________________________________________________________________________________\n",
            "add_12 (Add)                    (None, 10, 10, 256)  0           stage3_unit6_conv2[0][0]         \n",
            "                                                                 add_11[0][0]                     \n",
            "__________________________________________________________________________________________________\n",
            "stage4_unit1_bn1 (BatchNormaliz (None, 10, 10, 256)  1024        add_12[0][0]                     \n",
            "__________________________________________________________________________________________________\n",
            "stage4_unit1_relu1 (Activation) (None, 10, 10, 256)  0           stage4_unit1_bn1[0][0]           \n",
            "__________________________________________________________________________________________________\n",
            "zero_padding2d_28 (ZeroPadding2 (None, 12, 12, 256)  0           stage4_unit1_relu1[0][0]         \n",
            "__________________________________________________________________________________________________\n",
            "stage4_unit1_conv1 (Conv2D)     (None, 5, 5, 512)    1179648     zero_padding2d_28[0][0]          \n",
            "__________________________________________________________________________________________________\n",
            "stage4_unit1_bn2 (BatchNormaliz (None, 5, 5, 512)    2048        stage4_unit1_conv1[0][0]         \n",
            "__________________________________________________________________________________________________\n",
            "stage4_unit1_relu2 (Activation) (None, 5, 5, 512)    0           stage4_unit1_bn2[0][0]           \n",
            "__________________________________________________________________________________________________\n",
            "zero_padding2d_29 (ZeroPadding2 (None, 7, 7, 512)    0           stage4_unit1_relu2[0][0]         \n",
            "__________________________________________________________________________________________________\n",
            "stage4_unit1_conv2 (Conv2D)     (None, 5, 5, 512)    2359296     zero_padding2d_29[0][0]          \n",
            "__________________________________________________________________________________________________\n",
            "stage4_unit1_sc (Conv2D)        (None, 5, 5, 512)    131072      stage4_unit1_relu1[0][0]         \n",
            "__________________________________________________________________________________________________\n",
            "add_13 (Add)                    (None, 5, 5, 512)    0           stage4_unit1_conv2[0][0]         \n",
            "                                                                 stage4_unit1_sc[0][0]            \n",
            "__________________________________________________________________________________________________\n",
            "stage4_unit2_bn1 (BatchNormaliz (None, 5, 5, 512)    2048        add_13[0][0]                     \n",
            "__________________________________________________________________________________________________\n",
            "stage4_unit2_relu1 (Activation) (None, 5, 5, 512)    0           stage4_unit2_bn1[0][0]           \n",
            "__________________________________________________________________________________________________\n",
            "zero_padding2d_30 (ZeroPadding2 (None, 7, 7, 512)    0           stage4_unit2_relu1[0][0]         \n",
            "__________________________________________________________________________________________________\n",
            "stage4_unit2_conv1 (Conv2D)     (None, 5, 5, 512)    2359296     zero_padding2d_30[0][0]          \n",
            "__________________________________________________________________________________________________\n",
            "stage4_unit2_bn2 (BatchNormaliz (None, 5, 5, 512)    2048        stage4_unit2_conv1[0][0]         \n",
            "__________________________________________________________________________________________________\n",
            "stage4_unit2_relu2 (Activation) (None, 5, 5, 512)    0           stage4_unit2_bn2[0][0]           \n",
            "__________________________________________________________________________________________________\n",
            "zero_padding2d_31 (ZeroPadding2 (None, 7, 7, 512)    0           stage4_unit2_relu2[0][0]         \n",
            "__________________________________________________________________________________________________\n",
            "stage4_unit2_conv2 (Conv2D)     (None, 5, 5, 512)    2359296     zero_padding2d_31[0][0]          \n",
            "__________________________________________________________________________________________________\n",
            "add_14 (Add)                    (None, 5, 5, 512)    0           stage4_unit2_conv2[0][0]         \n",
            "                                                                 add_13[0][0]                     \n",
            "__________________________________________________________________________________________________\n",
            "stage4_unit3_bn1 (BatchNormaliz (None, 5, 5, 512)    2048        add_14[0][0]                     \n",
            "__________________________________________________________________________________________________\n",
            "stage4_unit3_relu1 (Activation) (None, 5, 5, 512)    0           stage4_unit3_bn1[0][0]           \n",
            "__________________________________________________________________________________________________\n",
            "zero_padding2d_32 (ZeroPadding2 (None, 7, 7, 512)    0           stage4_unit3_relu1[0][0]         \n",
            "__________________________________________________________________________________________________\n",
            "stage4_unit3_conv1 (Conv2D)     (None, 5, 5, 512)    2359296     zero_padding2d_32[0][0]          \n",
            "__________________________________________________________________________________________________\n",
            "stage4_unit3_bn2 (BatchNormaliz (None, 5, 5, 512)    2048        stage4_unit3_conv1[0][0]         \n",
            "__________________________________________________________________________________________________\n",
            "stage4_unit3_relu2 (Activation) (None, 5, 5, 512)    0           stage4_unit3_bn2[0][0]           \n",
            "__________________________________________________________________________________________________\n",
            "zero_padding2d_33 (ZeroPadding2 (None, 7, 7, 512)    0           stage4_unit3_relu2[0][0]         \n",
            "__________________________________________________________________________________________________\n",
            "stage4_unit3_conv2 (Conv2D)     (None, 5, 5, 512)    2359296     zero_padding2d_33[0][0]          \n",
            "__________________________________________________________________________________________________\n",
            "add_15 (Add)                    (None, 5, 5, 512)    0           stage4_unit3_conv2[0][0]         \n",
            "                                                                 add_14[0][0]                     \n",
            "__________________________________________________________________________________________________\n",
            "bn1 (BatchNormalization)        (None, 5, 5, 512)    2048        add_15[0][0]                     \n",
            "__________________________________________________________________________________________________\n",
            "relu1 (Activation)              (None, 5, 5, 512)    0           bn1[0][0]                        \n",
            "__________________________________________________________________________________________________\n",
            "decoder_stage0_upsampling (UpSa (None, 10, 10, 512)  0           relu1[0][0]                      \n",
            "__________________________________________________________________________________________________\n",
            "decoder_stage0_concat (Concaten (None, 10, 10, 768)  0           decoder_stage0_upsampling[0][0]  \n",
            "                                                                 stage4_unit1_relu1[0][0]         \n",
            "__________________________________________________________________________________________________\n",
            "decoder_stage0a_conv (Conv2D)   (None, 10, 10, 256)  1769472     decoder_stage0_concat[0][0]      \n",
            "__________________________________________________________________________________________________\n",
            "decoder_stage0a_bn (BatchNormal (None, 10, 10, 256)  1024        decoder_stage0a_conv[0][0]       \n",
            "__________________________________________________________________________________________________\n",
            "decoder_stage0a_relu (Activatio (None, 10, 10, 256)  0           decoder_stage0a_bn[0][0]         \n",
            "__________________________________________________________________________________________________\n",
            "decoder_stage0b_conv (Conv2D)   (None, 10, 10, 256)  589824      decoder_stage0a_relu[0][0]       \n",
            "__________________________________________________________________________________________________\n",
            "decoder_stage0b_bn (BatchNormal (None, 10, 10, 256)  1024        decoder_stage0b_conv[0][0]       \n",
            "__________________________________________________________________________________________________\n",
            "decoder_stage0b_relu (Activatio (None, 10, 10, 256)  0           decoder_stage0b_bn[0][0]         \n",
            "__________________________________________________________________________________________________\n",
            "decoder_stage1_upsampling (UpSa (None, 20, 20, 256)  0           decoder_stage0b_relu[0][0]       \n",
            "__________________________________________________________________________________________________\n",
            "decoder_stage1_concat (Concaten (None, 20, 20, 384)  0           decoder_stage1_upsampling[0][0]  \n",
            "                                                                 stage3_unit1_relu1[0][0]         \n",
            "__________________________________________________________________________________________________\n",
            "decoder_stage1a_conv (Conv2D)   (None, 20, 20, 128)  442368      decoder_stage1_concat[0][0]      \n",
            "__________________________________________________________________________________________________\n",
            "decoder_stage1a_bn (BatchNormal (None, 20, 20, 128)  512         decoder_stage1a_conv[0][0]       \n",
            "__________________________________________________________________________________________________\n",
            "decoder_stage1a_relu (Activatio (None, 20, 20, 128)  0           decoder_stage1a_bn[0][0]         \n",
            "__________________________________________________________________________________________________\n",
            "decoder_stage1b_conv (Conv2D)   (None, 20, 20, 128)  147456      decoder_stage1a_relu[0][0]       \n",
            "__________________________________________________________________________________________________\n",
            "decoder_stage1b_bn (BatchNormal (None, 20, 20, 128)  512         decoder_stage1b_conv[0][0]       \n",
            "__________________________________________________________________________________________________\n",
            "decoder_stage1b_relu (Activatio (None, 20, 20, 128)  0           decoder_stage1b_bn[0][0]         \n",
            "__________________________________________________________________________________________________\n",
            "decoder_stage2_upsampling (UpSa (None, 40, 40, 128)  0           decoder_stage1b_relu[0][0]       \n",
            "__________________________________________________________________________________________________\n",
            "decoder_stage2_concat (Concaten (None, 40, 40, 192)  0           decoder_stage2_upsampling[0][0]  \n",
            "                                                                 stage2_unit1_relu1[0][0]         \n",
            "__________________________________________________________________________________________________\n",
            "decoder_stage2a_conv (Conv2D)   (None, 40, 40, 64)   110592      decoder_stage2_concat[0][0]      \n",
            "__________________________________________________________________________________________________\n",
            "decoder_stage2a_bn (BatchNormal (None, 40, 40, 64)   256         decoder_stage2a_conv[0][0]       \n",
            "__________________________________________________________________________________________________\n",
            "decoder_stage2a_relu (Activatio (None, 40, 40, 64)   0           decoder_stage2a_bn[0][0]         \n",
            "__________________________________________________________________________________________________\n",
            "decoder_stage2b_conv (Conv2D)   (None, 40, 40, 64)   36864       decoder_stage2a_relu[0][0]       \n",
            "__________________________________________________________________________________________________\n",
            "decoder_stage2b_bn (BatchNormal (None, 40, 40, 64)   256         decoder_stage2b_conv[0][0]       \n",
            "__________________________________________________________________________________________________\n",
            "decoder_stage2b_relu (Activatio (None, 40, 40, 64)   0           decoder_stage2b_bn[0][0]         \n",
            "__________________________________________________________________________________________________\n",
            "decoder_stage3_upsampling (UpSa (None, 80, 80, 64)   0           decoder_stage2b_relu[0][0]       \n",
            "__________________________________________________________________________________________________\n",
            "decoder_stage3_concat (Concaten (None, 80, 80, 128)  0           decoder_stage3_upsampling[0][0]  \n",
            "                                                                 relu0[0][0]                      \n",
            "__________________________________________________________________________________________________\n",
            "decoder_stage3a_conv (Conv2D)   (None, 80, 80, 32)   36864       decoder_stage3_concat[0][0]      \n",
            "__________________________________________________________________________________________________\n",
            "decoder_stage3a_bn (BatchNormal (None, 80, 80, 32)   128         decoder_stage3a_conv[0][0]       \n",
            "__________________________________________________________________________________________________\n",
            "decoder_stage3a_relu (Activatio (None, 80, 80, 32)   0           decoder_stage3a_bn[0][0]         \n",
            "__________________________________________________________________________________________________\n",
            "decoder_stage3b_conv (Conv2D)   (None, 80, 80, 32)   9216        decoder_stage3a_relu[0][0]       \n",
            "__________________________________________________________________________________________________\n",
            "decoder_stage3b_bn (BatchNormal (None, 80, 80, 32)   128         decoder_stage3b_conv[0][0]       \n",
            "__________________________________________________________________________________________________\n",
            "decoder_stage3b_relu (Activatio (None, 80, 80, 32)   0           decoder_stage3b_bn[0][0]         \n",
            "__________________________________________________________________________________________________\n",
            "decoder_stage4_upsampling (UpSa (None, 160, 160, 32) 0           decoder_stage3b_relu[0][0]       \n",
            "__________________________________________________________________________________________________\n",
            "decoder_stage4a_conv (Conv2D)   (None, 160, 160, 16) 4608        decoder_stage4_upsampling[0][0]  \n",
            "__________________________________________________________________________________________________\n",
            "decoder_stage4a_bn (BatchNormal (None, 160, 160, 16) 64          decoder_stage4a_conv[0][0]       \n",
            "__________________________________________________________________________________________________\n",
            "decoder_stage4a_relu (Activatio (None, 160, 160, 16) 0           decoder_stage4a_bn[0][0]         \n",
            "__________________________________________________________________________________________________\n",
            "decoder_stage4b_conv (Conv2D)   (None, 160, 160, 16) 2304        decoder_stage4a_relu[0][0]       \n",
            "__________________________________________________________________________________________________\n",
            "decoder_stage4b_bn (BatchNormal (None, 160, 160, 16) 64          decoder_stage4b_conv[0][0]       \n",
            "__________________________________________________________________________________________________\n",
            "decoder_stage4b_relu (Activatio (None, 160, 160, 16) 0           decoder_stage4b_bn[0][0]         \n",
            "__________________________________________________________________________________________________\n",
            "final_conv (Conv2D)             (None, 160, 160, 5)  725         decoder_stage4b_relu[0][0]       \n",
            "__________________________________________________________________________________________________\n",
            "softmax (Activation)            (None, 160, 160, 5)  0           final_conv[0][0]                 \n",
            "==================================================================================================\n",
            "Total params: 24,450,456\n",
            "Trainable params: 24,433,110\n",
            "Non-trainable params: 17,346\n",
            "__________________________________________________________________________________________________\n"
          ]
        }
      ]
    },
    {
      "cell_type": "code",
      "metadata": {
        "id": "ELk4IPu9sH5e"
      },
      "source": [
        "optim = tf.keras.optimizers.Adam(lr =0.0008)\n",
        "dice_loss = sm.losses.DiceLoss() \n",
        "focal_loss = sm.losses.CategoricalFocalLoss()\n",
        "total_loss = dice_loss + (1 * focal_loss)\n",
        "\n",
        "metrics = [sm.metrics.IOUScore(threshold=0.5), sm.metrics.FScore(threshold=0.5), 'accuracy']"
      ],
      "execution_count": null,
      "outputs": []
    },
    {
      "cell_type": "code",
      "metadata": {
        "id": "HvcIKttMsJWX"
      },
      "source": [
        "model.compile(optim, total_loss, metrics)"
      ],
      "execution_count": null,
      "outputs": []
    },
    {
      "cell_type": "code",
      "metadata": {
        "id": "NYVRphMrsMVd"
      },
      "source": [
        "from tensorflow.keras.callbacks import EarlyStopping,ModelCheckpoint,CSVLogger\n",
        "\n",
        "model_checkpoint = ModelCheckpoint('/content/drive/My Drive/unet_resnet34_DWI/'+'unet_resnet34_fold10.h5', save_best_only=True,save_weights_only=True, verbose=2, monitor='val_f1-score',mode='max')\n",
        "csv_logger = CSVLogger('/content/drive/My Drive/unet_resnet34_DWI/'+'unet_resnet34_fold10.csv', append=True)"
      ],
      "execution_count": null,
      "outputs": []
    },
    {
      "cell_type": "code",
      "metadata": {
        "id": "0S9Ph5lhsZfn"
      },
      "source": [
        "def step_decay(epoch):\n",
        "     \n",
        "     initAlpha = 0.0008\n",
        "     factor = .9\n",
        "     dropEvery = 30\n",
        "     alpha = initAlpha * (factor ** np.floor((1 + epoch) / dropEvery))\n",
        "     return float(alpha)"
      ],
      "execution_count": null,
      "outputs": []
    },
    {
      "cell_type": "code",
      "metadata": {
        "id": "HjgPBPk57OMO"
      },
      "source": [
        "batch_size =8\n",
        "TrainSteps = len(X_T)  / batch_size\n",
        "ValSteps   = len(X_V)"
      ],
      "execution_count": null,
      "outputs": []
    },
    {
      "cell_type": "code",
      "metadata": {
        "id": "1fSZaxtzTjX8"
      },
      "source": [
        "model.load_weights('/content/drive/My Drive/unet_resnet34_ADC/unet_resnet34_fold10.h5')"
      ],
      "execution_count": null,
      "outputs": []
    },
    {
      "cell_type": "code",
      "metadata": {
        "id": "NzLWu7oehsr6"
      },
      "source": [
        "scores=model.evaluate(X_V,Y_V_c , batch_size=1)\n",
        "print(\"Loss: {:.5}\".format(scores[0]))\n",
        "for metric, value in zip(metrics, scores[1:]):\n",
        "    print(\"mean {}: {:.5}\".format(metric, value))"
      ],
      "execution_count": null,
      "outputs": []
    },
    {
      "cell_type": "code",
      "source": [
        "img= nib.load(\"/content/ADD_crop.nii\")\n",
        "lbl_img = img.get_fdata(caching='unchanged') "
      ],
      "metadata": {
        "id": "1QA15ioRklDO"
      },
      "execution_count": null,
      "outputs": []
    },
    {
      "cell_type": "code",
      "source": [
        "plt.imshow(lbl_img[:,:,8])"
      ],
      "metadata": {
        "id": "L0nWzie3lyP2"
      },
      "execution_count": null,
      "outputs": []
    },
    {
      "cell_type": "code",
      "source": [
        "img_label= nib.load(\"/content/label.nii\")\n",
        "lbl_img_label = img_label.get_fdata(caching='unchanged') "
      ],
      "metadata": {
        "id": "67clua1Bkrd7"
      },
      "execution_count": null,
      "outputs": []
    },
    {
      "cell_type": "code",
      "source": [
        "plt.imshow(lbl_img_label[:,:,8])"
      ],
      "metadata": {
        "id": "68vbjzvLl9Se"
      },
      "execution_count": null,
      "outputs": []
    },
    {
      "cell_type": "code",
      "source": [
        "X_Tt=[]\n",
        "for j in range(0,19):\n",
        "  img=lbl_img[:,:,j]\n",
        "  X_Tt.append(img)\n",
        "\n",
        "X_Tt=np.array(X_Tt)\n",
        "X_Ttt=np.expand_dims(X_Tt, axis=-1)  "
      ],
      "metadata": {
        "id": "WPv0UjdWk3ia"
      },
      "execution_count": null,
      "outputs": []
    },
    {
      "cell_type": "code",
      "metadata": {
        "id": "5qd9RjCV55qX",
        "colab": {
          "base_uri": "https://localhost:8080/"
        },
        "outputId": "96822138-af3e-434f-e32f-b444f6bd07aa"
      },
      "source": [
        "p=model.predict(X_Ttt)\n",
        "p.shape\n",
        "# y=Y_V_c"
      ],
      "execution_count": null,
      "outputs": [
        {
          "output_type": "execute_result",
          "data": {
            "text/plain": [
              "(19, 160, 160, 5)"
            ]
          },
          "metadata": {},
          "execution_count": 104
        }
      ]
    },
    {
      "cell_type": "code",
      "source": [
        "plt.imshow(p[9,:,:,3])"
      ],
      "metadata": {
        "id": "_hPuul1hmPbe"
      },
      "execution_count": null,
      "outputs": []
    },
    {
      "cell_type": "code",
      "source": [
        "pred=np.argmax(p, axis=-1)"
      ],
      "metadata": {
        "id": "kMR8kjREmMIk"
      },
      "execution_count": null,
      "outputs": []
    },
    {
      "cell_type": "code",
      "source": [
        "pred.shape"
      ],
      "metadata": {
        "id": "ysntbnAGnDt-"
      },
      "execution_count": null,
      "outputs": []
    },
    {
      "cell_type": "code",
      "source": [
        "plt.imshow(pred[7])"
      ],
      "metadata": {
        "id": "FFoYQsWclFz3"
      },
      "execution_count": null,
      "outputs": []
    },
    {
      "cell_type": "code",
      "source": [
        "from scipy.spatial.distance import directed_hausdorff\n",
        "\n",
        "\n",
        "def Average(lst):\n",
        "    return sum(lst) / len(lst)\n",
        "\n",
        "\n",
        "\n",
        "HD=[]\n",
        "for i in range(0,76):\n",
        "  hd=directed_hausdorff(p[i,:,:,0], y[i,:,:,0])\n",
        "  HD.append(hd[0])\n",
        "\n"
      ],
      "metadata": {
        "id": "7w9IboBwmJCv"
      },
      "execution_count": null,
      "outputs": []
    },
    {
      "cell_type": "code",
      "source": [
        "from scipy.spatial.distance import directed_hausdorff\n",
        "\n",
        "\n",
        "def Average(lst):\n",
        "    return sum(lst) / len(lst)\n",
        "\n",
        "\n",
        "\n",
        "HD=[]\n",
        "for i in range(0,76):\n",
        "  hd=directed_hausdorff(p[i,:,:,1], y[i,:,:,1])\n",
        "  HD.append(hd[0])\n",
        "\n"
      ],
      "metadata": {
        "id": "A1OOBC41mJF2"
      },
      "execution_count": null,
      "outputs": []
    },
    {
      "cell_type": "code",
      "source": [
        "from scipy.spatial.distance import directed_hausdorff\n",
        "\n",
        "\n",
        "def Average(lst):\n",
        "    return sum(lst) / len(lst)\n",
        "\n",
        "\n",
        "\n",
        "HD=[]\n",
        "for i in range(0,76):\n",
        "  hd=directed_hausdorff(p[i,:,:,2], y[i,:,:,2])\n",
        "  HD.append(hd[0])\n",
        "\n"
      ],
      "metadata": {
        "id": "uEiBDshqmJJj"
      },
      "execution_count": null,
      "outputs": []
    },
    {
      "cell_type": "code",
      "source": [
        "from scipy.spatial.distance import directed_hausdorff\n",
        "\n",
        "\n",
        "def Average(lst):\n",
        "    return sum(lst) / len(lst)\n",
        "\n",
        "\n",
        "\n",
        "HD=[]\n",
        "for i in range(0,76):\n",
        "  hd=directed_hausdorff(p[i,:,:,3], y[i,:,:,3])\n",
        "  HD.append(hd[0])\n",
        "\n"
      ],
      "metadata": {
        "id": "M1hR3_P2mJNL"
      },
      "execution_count": null,
      "outputs": []
    },
    {
      "cell_type": "code",
      "source": [
        "from scipy.spatial.distance import directed_hausdorff\n",
        "\n",
        "\n",
        "def Average(lst):\n",
        "    return sum(lst) / len(lst)\n",
        "\n",
        "\n",
        "\n",
        "HD=[]\n",
        "for i in range(0,76):\n",
        "  hd=directed_hausdorff(p[i,:,:,4], y[i,:,:,4])\n",
        "  HD.append(hd[0])\n",
        "\n"
      ],
      "metadata": {
        "id": "x9M9n_5jmJO-"
      },
      "execution_count": null,
      "outputs": []
    },
    {
      "cell_type": "code",
      "metadata": {
        "id": "o9Ocsy_M6EXN"
      },
      "source": [
        "pred=np.argmax(p, axis=-1)\n",
        "ytrue=np.argmax(y, axis=-1)"
      ],
      "execution_count": null,
      "outputs": []
    },
    {
      "cell_type": "code",
      "metadata": {
        "id": "sNpitLFlIu74"
      },
      "source": [
        "Pred=pred.flatten()\n",
        "Ytrue=ytrue.flatten()"
      ],
      "execution_count": null,
      "outputs": []
    },
    {
      "cell_type": "code",
      "metadata": {
        "id": "kpw5SbEGJmho"
      },
      "source": [
        "Ytrue.shape"
      ],
      "execution_count": null,
      "outputs": []
    },
    {
      "cell_type": "code",
      "metadata": {
        "id": "P2hF-PdTKKEp"
      },
      "source": [
        "from sklearn.metrics import classification_report\n",
        "(classification_report(Pred, Ytrue, digits=4))"
      ],
      "execution_count": null,
      "outputs": []
    }
  ]
}