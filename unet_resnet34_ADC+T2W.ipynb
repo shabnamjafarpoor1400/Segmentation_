{
  "cells": [
    {
      "cell_type": "code",
      "execution_count": null,
      "metadata": {
        "id": "DTHyrTD_zbLz"
      },
      "outputs": [],
      "source": [
        "! nvidia-smi"
      ]
    },
    {
      "cell_type": "code",
      "execution_count": null,
      "metadata": {
        "id": "q-5L8TXNzzmj"
      },
      "outputs": [],
      "source": [
        "#content to google drive\n",
        "from google.colab import drive\n",
        "drive.mount('/content/drive/')\n"
      ]
    },
    {
      "cell_type": "code",
      "execution_count": null,
      "metadata": {
        "id": "UgNtTd96pQ4R"
      },
      "outputs": [],
      "source": [
        "!pip install tensorflow==2.2.0\n",
        "!pip install keras==2.4.2\n",
        "!pip install segmentation_models"
      ]
    },
    {
      "cell_type": "code",
      "execution_count": null,
      "metadata": {
        "id": "GI44rQXeS0op"
      },
      "outputs": [],
      "source": [
        "# Enter modules\n",
        "import zipfile  # For faster extraction\n",
        "import keras\n",
        "import tensorflow as tf\n",
        "import os\n",
        "from numpy import expand_dims\n",
        "import cv2 # for read image\n",
        "import numpy as np # For data manipulation\n",
        "import matplotlib.pyplot as plt # for draw\n",
        "from google.colab.patches import cv2_imshow #coordinate cv2 with colab\n",
        "import nibabel as nib  #To read nii format\n",
        "import re  # For parsing the filenames (to know their modality)\n",
        "import glob # For populating the list of files\n",
        "import imgaug.augmenters as iaa #for data agumention\n",
        "from sklearn.model_selection import KFold, StratifiedKFold #Data setup and data segmentation\n",
        "import imgaug as ia\n",
        "from keras.models import *\n",
        "from keras.layers import *\n",
        "from keras.optimizers import *\n",
        "from keras.callbacks import CSVLogger\n",
        "from keras.callbacks import ModelCheckpoint, ReduceLROnPlateau, EarlyStopping\n",
        "from tensorflow.keras.utils import to_categorical\n",
        "from sklearn.model_selection import train_test_split\n",
        "import time\n",
        "import datetime\n",
        "import os\n",
        "from keras.models import Model\n",
        "from keras.layers import Input, Conv2D, MaxPooling2D, UpSampling2D, concatenate, Conv2DTranspose, BatchNormalization, Dropout\n",
        "from tensorflow.keras.optimizers import Adam\n",
        "from tensorflow.keras import backend as K\n",
        "from tensorflow.keras.callbacks import ModelCheckpoint, TensorBoard\n",
        "from tensorflow.keras.models import load_model\n",
        "import tensorflow.keras.backend as K\n",
        "import numpy as np\n",
        "import tensorflow as tf\n",
        "import segmentation_models as sm"
      ]
    },
    {
      "cell_type": "code",
      "execution_count": null,
      "metadata": {
        "id": "jlfy-NngUywP"
      },
      "outputs": [],
      "source": [
        "import os\n",
        "import nibabel as nib\n",
        "Fusion=os.listdir('/content/drive/MyDrive/prostate_crop/weighted_Fusion_ADC+T2W_crop')\n",
        "\n",
        "\n",
        "Fusion_imag=[]\n",
        "X=[]\n",
        "for i in Fusion:\n",
        "  Fusion_imag.append('/content/drive/MyDrive/prostate_crop/weighted_Fusion_ADC+T2W_crop/' + i )\n",
        "for j in Fusion_imag:\n",
        "  img= nib.load(j)\n",
        "  fusion_img = img.get_fdata(caching='unchanged') \n",
        "  X.append(fusion_img)"
      ]
    },
    {
      "cell_type": "code",
      "execution_count": null,
      "metadata": {
        "id": "1EtCx8_TVFRn"
      },
      "outputs": [],
      "source": [
        "label=os.listdir('/content/drive/MyDrive/prostate_crop/Label_crop')\n",
        "label_imag=[]\n",
        "Y=[]\n",
        "for i in label:\n",
        "  label_imag.append('/content/drive/MyDrive/prostate_crop/Label_crop/' + i )\n",
        "for j in label_imag:\n",
        "  img= nib.load(j)\n",
        "  lbl_img = img.get_fdata(caching='unchanged') \n",
        "  Y.append(lbl_img)  "
      ]
    },
    {
      "cell_type": "code",
      "execution_count": null,
      "metadata": {
        "id": "IBmCSN_0Q8b4"
      },
      "outputs": [],
      "source": [
        "X=np.array(X)\n",
        "Y=np.array(Y)"
      ]
    },
    {
      "cell_type": "code",
      "execution_count": null,
      "metadata": {
        "id": "QMCTJ63yaqyK"
      },
      "outputs": [],
      "source": [
        "np.unique(Y[0])"
      ]
    },
    {
      "cell_type": "code",
      "execution_count": null,
      "metadata": {
        "id": "j8k13i5_RbOM"
      },
      "outputs": [],
      "source": [
        "from sklearn.model_selection import KFold\n",
        "i=0 \n",
        "n_split=10\n",
        " \n",
        "for train_index,test_index in KFold(n_split).split(X):\n",
        "  if i==9:\n",
        "    X_train,X_val=X[train_index],X[test_index]\n",
        "    y_train,y_val=Y[train_index],Y[test_index]\n",
        "  i=i+1  \n",
        "\n"
      ]
    },
    {
      "cell_type": "code",
      "execution_count": null,
      "metadata": {
        "id": "810BUvPKYMRB"
      },
      "outputs": [],
      "source": [
        "X_T=[]\n",
        "for i in range (0,len(X_train)):\n",
        "  for j in range(0,19):\n",
        "    img=X_train[i][:,:,j]\n",
        "    X_T.append(img)\n",
        "\n",
        "Y_T=[]\n",
        "for i in range (0,len(y_train)):\n",
        "  for j in range(0,19):\n",
        "    img=y_train[i][:,:,j]\n",
        "    Y_T.append(img)    \n",
        "\n",
        "X_V=[]\n",
        "for i in range (0,len(X_val)):\n",
        "  for j in range(0,19):\n",
        "    img=X_val[i][:,:,j]\n",
        "    X_V.append(img) \n",
        "Y_V=[]\n",
        "for i in range (0,len(y_val)):\n",
        "  for j in range(0,19):\n",
        "    img=y_val[i][:,:,j]\n",
        "    Y_V.append(img)              "
      ]
    },
    {
      "cell_type": "code",
      "execution_count": null,
      "metadata": {
        "id": "ppGdiny9X7w1"
      },
      "outputs": [],
      "source": [
        "np.unique(Y_V[0])"
      ]
    },
    {
      "cell_type": "code",
      "execution_count": null,
      "metadata": {
        "id": "OubS12Ygbxjc"
      },
      "outputs": [],
      "source": [
        "Y_T_c=to_categorical(Y_T,5)\n",
        "Y_V_c=to_categorical(Y_V,5)"
      ]
    },
    {
      "cell_type": "code",
      "execution_count": null,
      "metadata": {
        "id": "4MAHenSqICad"
      },
      "outputs": [],
      "source": [
        "np.unique(Y_T_c[0])"
      ]
    },
    {
      "cell_type": "code",
      "execution_count": null,
      "metadata": {
        "id": "10i_GjTaqoby"
      },
      "outputs": [],
      "source": [
        "X_T=np.array(X_T)\n",
        "Y_T_c=np.array(Y_T_c)\n",
        "X_V=np.array(X_V)\n",
        "Y_V_c=np.array(Y_V_c)"
      ]
    },
    {
      "cell_type": "code",
      "execution_count": null,
      "metadata": {
        "id": "BC1Y49AigGtO"
      },
      "outputs": [],
      "source": [
        "X_T=np.expand_dims(X_T, axis=-1)\n",
        "X_V=np.expand_dims(X_V, axis=-1)"
      ]
    },
    {
      "cell_type": "code",
      "execution_count": null,
      "metadata": {
        "id": "eA9dgqO_xvsu"
      },
      "outputs": [],
      "source": [
        "import random\n",
        "def Data_generator_train(X,y, batch_size=8):   \n",
        "    while True:               \n",
        "          for start in range(0, X.shape[0], batch_size):\n",
        "              x_batch = []\n",
        "              y_batch = []\n",
        "              end = min(start + batch_size, X.shape[0])\n",
        "              ids_batch = X[start:end]\n",
        "              for idd in range(start,end):           \n",
        "                   a=random.randint(0,2)\n",
        "                   if a==0:\n",
        "                      image =np.fliplr(X[idd]) \n",
        "                      label =np.fliplr(y[idd])\n",
        "                   if a==1:\n",
        "                     image =np.flipud(X[idd]) \n",
        "                     label =np.flipud(y[idd])\n",
        "                   elif a==2:\n",
        "                     image =(X[idd]) \n",
        "                     label =(y[idd])                \n",
        "                   x_batch.append(image)\n",
        "                   y_batch.append(label)               \n",
        "              x_batch= np.array(x_batch)\n",
        "              y_batch= np.array(y_batch)                                           \n",
        "              yield x_batch, y_batch\n"
      ]
    },
    {
      "cell_type": "code",
      "execution_count": null,
      "metadata": {
        "id": "aWYHRJEB0Fm8"
      },
      "outputs": [],
      "source": [
        "m,b=next(iter(Data_generator_train(X_T,Y_T_c)))\n",
        "\n"
      ]
    },
    {
      "cell_type": "code",
      "execution_count": null,
      "metadata": {
        "id": "wvEvuaoVU9S-"
      },
      "outputs": [],
      "source": [
        "import random\n",
        "def Data_generator_test(X,y, batch_size=1):   \n",
        "    while True:               \n",
        "          for start in range(0, X.shape[0], batch_size):\n",
        "              x_batch = []\n",
        "              y_batch = []\n",
        "              end = min(start + batch_size, X.shape[0])\n",
        "              ids_batch = X[start:end]\n",
        "              for idd in range(start,end):           \n",
        "                image =(X[idd]) \n",
        "                label =(y[idd])                \n",
        "                x_batch.append(image)\n",
        "                y_batch.append(label)               \n",
        "              x_batch= np.array(x_batch)\n",
        "              y_batch= np.array(y_batch)                                           \n",
        "              yield x_batch, y_batch\n"
      ]
    },
    {
      "cell_type": "code",
      "execution_count": null,
      "metadata": {
        "id": "eZ5XVIQeXGjZ"
      },
      "outputs": [],
      "source": [
        "m,b=next(iter(Data_generator_test(X_V,Y_V_c)))\n"
      ]
    },
    {
      "cell_type": "code",
      "execution_count": null,
      "metadata": {
        "id": "qJf3JLotqrhh"
      },
      "outputs": [],
      "source": [
        "model= sm.Unet('resnet34', classes=5, activation='softmax', encoder_weights=None, input_shape=(160, 160, 1))"
      ]
    },
    {
      "cell_type": "code",
      "execution_count": null,
      "metadata": {
        "id": "ELk4IPu9sH5e"
      },
      "outputs": [],
      "source": [
        "optim = tf.keras.optimizers.Adam(lr =0.0008)\n",
        "dice_loss = sm.losses.DiceLoss() \n",
        "focal_loss = sm.losses.CategoricalFocalLoss()\n",
        "total_loss = dice_loss + (1 * focal_loss)\n",
        "\n",
        "metrics = [sm.metrics.IOUScore(threshold=0.5), sm.metrics.FScore(threshold=0.5), 'accuracy']"
      ]
    },
    {
      "cell_type": "code",
      "execution_count": null,
      "metadata": {
        "id": "HvcIKttMsJWX"
      },
      "outputs": [],
      "source": [
        "model.compile(optim, total_loss, metrics)"
      ]
    },
    {
      "cell_type": "code",
      "execution_count": null,
      "metadata": {
        "id": "0S9Ph5lhsZfn"
      },
      "outputs": [],
      "source": [
        "def step_decay(epoch):\n",
        "     \n",
        "     initAlpha = 0.0008\n",
        "     factor = .9\n",
        "     dropEvery = 30\n",
        "     alpha = initAlpha * (factor ** np.floor((1 + epoch) / dropEvery))\n",
        "     return float(alpha)"
      ]
    },
    {
      "cell_type": "code",
      "execution_count": null,
      "metadata": {
        "id": "HjgPBPk57OMO"
      },
      "outputs": [],
      "source": [
        "batch_size =8\n",
        "TrainSteps = len(X_T)  / batch_size\n",
        "ValSteps   = len(X_V)"
      ]
    },
    {
      "cell_type": "code",
      "execution_count": null,
      "metadata": {
        "id": "1fSZaxtzTjX8"
      },
      "outputs": [],
      "source": [
        "model.load_weights('/content/drive/My Drive/weighted_Fusion_crop/unet_resnet34_weighted_Fusion_ADC+T2W_crop/unet_resnet34_fold10.h5')"
      ]
    },
    {
      "cell_type": "code",
      "execution_count": null,
      "metadata": {
        "id": "NzLWu7oehsr6"
      },
      "outputs": [],
      "source": [
        "scores=model.evaluate(X_V,Y_V_c , batch_size=1)\n",
        "print(\"Loss: {:.5}\".format(scores[0]))\n",
        "for metric, value in zip(metrics, scores[1:]):\n",
        "    print(\"mean {}: {:.5}\".format(metric, value))"
      ]
    },
    {
      "cell_type": "code",
      "execution_count": null,
      "metadata": {
        "id": "5qd9RjCV55qX"
      },
      "outputs": [],
      "source": [
        "p=model.predict(X_V)\n",
        "y=Y_V_c"
      ]
    },
    {
      "cell_type": "code",
      "execution_count": null,
      "metadata": {
        "id": "x5-6zeHixTNe"
      },
      "outputs": [],
      "source": [
        "\n",
        "from scipy.spatial.distance import directed_hausdorff\n",
        "\n",
        "\n",
        "def Average(lst):\n",
        "    return sum(lst) / len(lst)\n",
        "\n",
        "\n",
        "\n",
        "HD=[]\n",
        "for i in range(0,76):\n",
        "  hd=directed_hausdorff(p[i,:,:,0], y[i,:,:,0])\n",
        "  HD.append(hd[0])\n",
        "\n"
      ]
    },
    {
      "cell_type": "code",
      "execution_count": null,
      "metadata": {
        "id": "K7_5EQVRxTRa"
      },
      "outputs": [],
      "source": [
        "\n",
        "from scipy.spatial.distance import directed_hausdorff\n",
        "\n",
        "\n",
        "def Average(lst):\n",
        "    return sum(lst) / len(lst)\n",
        "\n",
        "\n",
        "\n",
        "HD=[]\n",
        "for i in range(0,76):\n",
        "  hd=directed_hausdorff(p[i,:,:,1], y[i,:,:,1])\n",
        "  HD.append(hd[0])\n",
        "\n"
      ]
    },
    {
      "cell_type": "code",
      "execution_count": null,
      "metadata": {
        "id": "mAIqkDw6xTUE"
      },
      "outputs": [],
      "source": [
        "\n",
        "from scipy.spatial.distance import directed_hausdorff\n",
        "\n",
        "\n",
        "def Average(lst):\n",
        "    return sum(lst) / len(lst)\n",
        "\n",
        "\n",
        "\n",
        "HD=[]\n",
        "for i in range(0,76):\n",
        "  hd=directed_hausdorff(p[i,:,:,2], y[i,:,:,2])\n",
        "  HD.append(hd[0])\n",
        "\n"
      ]
    },
    {
      "cell_type": "code",
      "execution_count": null,
      "metadata": {
        "id": "jOuJb3otxTXq"
      },
      "outputs": [],
      "source": [
        "\n",
        "from scipy.spatial.distance import directed_hausdorff\n",
        "\n",
        "\n",
        "def Average(lst):\n",
        "    return sum(lst) / len(lst)\n",
        "\n",
        "\n",
        "\n",
        "HD=[]\n",
        "for i in range(0,76):\n",
        "  hd=directed_hausdorff(p[i,:,:,3], y[i,:,:,3])\n",
        "  HD.append(hd[0])\n",
        "\n"
      ]
    },
    {
      "cell_type": "code",
      "execution_count": null,
      "metadata": {
        "id": "LrnmkTccxTbI"
      },
      "outputs": [],
      "source": [
        "\n",
        "from scipy.spatial.distance import directed_hausdorff\n",
        "\n",
        "\n",
        "def Average(lst):\n",
        "    return sum(lst) / len(lst)\n",
        "\n",
        "\n",
        "\n",
        "HD=[]\n",
        "for i in range(0,76):\n",
        "  hd=directed_hausdorff(p[i,:,:,4], y[i,:,:,4])\n",
        "  HD.append(hd[0])\n",
        "\n"
      ]
    }
  ],
  "metadata": {
    "accelerator": "GPU",
    "colab": {
      "collapsed_sections": [],
      "name": "unet_resnet34_ADC+T2W.ipynb",
      "provenance": []
    },
    "kernelspec": {
      "display_name": "Python 3",
      "name": "python3"
    },
    "language_info": {
      "name": "python"
    }
  },
  "nbformat": 4,
  "nbformat_minor": 0
}